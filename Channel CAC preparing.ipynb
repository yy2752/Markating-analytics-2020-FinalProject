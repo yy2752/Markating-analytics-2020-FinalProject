{
 "cells": [
  {
   "cell_type": "code",
   "execution_count": 1,
   "metadata": {},
   "outputs": [],
   "source": [
    "#import packages\n",
    "import numpy as np\n",
    "import pandas as pd\n",
    "from datetime import datetime\n",
    "from datetime import timedelta"
   ]
  },
  {
   "cell_type": "code",
   "execution_count": 2,
   "metadata": {},
   "outputs": [
    {
     "data": {
      "text/html": [
       "<div>\n",
       "<style scoped>\n",
       "    .dataframe tbody tr th:only-of-type {\n",
       "        vertical-align: middle;\n",
       "    }\n",
       "\n",
       "    .dataframe tbody tr th {\n",
       "        vertical-align: top;\n",
       "    }\n",
       "\n",
       "    .dataframe thead th {\n",
       "        text-align: right;\n",
       "    }\n",
       "</style>\n",
       "<table border=\"1\" class=\"dataframe\">\n",
       "  <thead>\n",
       "    <tr style=\"text-align: right;\">\n",
       "      <th></th>\n",
       "      <th>preferred_genre</th>\n",
       "      <th>intended_use</th>\n",
       "      <th>weekly_consumption_hour</th>\n",
       "      <th>age</th>\n",
       "      <th>male_TF</th>\n",
       "      <th>attribution_technical</th>\n",
       "      <th>account_creation_date</th>\n",
       "      <th>initial_credit_card_declined</th>\n",
       "      <th>join_fee</th>\n",
       "      <th>current_sub_TF</th>\n",
       "      <th>last_payment</th>\n",
       "      <th>cancel_date</th>\n",
       "      <th>trial_completed</th>\n",
       "    </tr>\n",
       "  </thead>\n",
       "  <tbody>\n",
       "    <tr>\n",
       "      <th>0</th>\n",
       "      <td>comedy</td>\n",
       "      <td>access to exclusive content</td>\n",
       "      <td>0.000000</td>\n",
       "      <td>0.0</td>\n",
       "      <td>False</td>\n",
       "      <td>facebook</td>\n",
       "      <td>2020-01-24 21:44:16</td>\n",
       "      <td>False</td>\n",
       "      <td>0.0000</td>\n",
       "      <td>True</td>\n",
       "      <td>2020-02-07 21:44:16</td>\n",
       "      <td>0</td>\n",
       "      <td>True</td>\n",
       "    </tr>\n",
       "    <tr>\n",
       "      <th>1</th>\n",
       "      <td>comedy</td>\n",
       "      <td>access to exclusive content</td>\n",
       "      <td>22.951579</td>\n",
       "      <td>70.0</td>\n",
       "      <td>False</td>\n",
       "      <td>facebook</td>\n",
       "      <td>2020-03-01 15:44:35</td>\n",
       "      <td>False</td>\n",
       "      <td>0.3303</td>\n",
       "      <td>True</td>\n",
       "      <td>2020-03-15 15:44:35</td>\n",
       "      <td>0</td>\n",
       "      <td>True</td>\n",
       "    </tr>\n",
       "    <tr>\n",
       "      <th>2</th>\n",
       "      <td>regional</td>\n",
       "      <td>replace OTT</td>\n",
       "      <td>36.001186</td>\n",
       "      <td>25.0</td>\n",
       "      <td>True</td>\n",
       "      <td>organic</td>\n",
       "      <td>2019-12-07 16:37:06</td>\n",
       "      <td>False</td>\n",
       "      <td>0.1101</td>\n",
       "      <td>False</td>\n",
       "      <td>0</td>\n",
       "      <td>0</td>\n",
       "      <td>True</td>\n",
       "    </tr>\n",
       "    <tr>\n",
       "      <th>3</th>\n",
       "      <td>drama</td>\n",
       "      <td>replace OTT</td>\n",
       "      <td>20.051667</td>\n",
       "      <td>30.0</td>\n",
       "      <td>False</td>\n",
       "      <td>search</td>\n",
       "      <td>2020-01-27 16:09:32</td>\n",
       "      <td>False</td>\n",
       "      <td>0.0367</td>\n",
       "      <td>False</td>\n",
       "      <td>0</td>\n",
       "      <td>0</td>\n",
       "      <td>True</td>\n",
       "    </tr>\n",
       "    <tr>\n",
       "      <th>4</th>\n",
       "      <td>comedy</td>\n",
       "      <td>replace OTT</td>\n",
       "      <td>22.951579</td>\n",
       "      <td>28.0</td>\n",
       "      <td>False</td>\n",
       "      <td>discovery</td>\n",
       "      <td>2019-10-05 12:57:07</td>\n",
       "      <td>False</td>\n",
       "      <td>0.0367</td>\n",
       "      <td>True</td>\n",
       "      <td>2020-02-19 12:57:07</td>\n",
       "      <td>0</td>\n",
       "      <td>True</td>\n",
       "    </tr>\n",
       "  </tbody>\n",
       "</table>\n",
       "</div>"
      ],
      "text/plain": [
       "  preferred_genre                 intended_use  weekly_consumption_hour   age  \\\n",
       "0          comedy  access to exclusive content                 0.000000   0.0   \n",
       "1          comedy  access to exclusive content                22.951579  70.0   \n",
       "2        regional                  replace OTT                36.001186  25.0   \n",
       "3           drama                  replace OTT                20.051667  30.0   \n",
       "4          comedy                  replace OTT                22.951579  28.0   \n",
       "\n",
       "  male_TF attribution_technical account_creation_date  \\\n",
       "0   False              facebook   2020-01-24 21:44:16   \n",
       "1   False              facebook   2020-03-01 15:44:35   \n",
       "2    True               organic   2019-12-07 16:37:06   \n",
       "3   False                search   2020-01-27 16:09:32   \n",
       "4   False             discovery   2019-10-05 12:57:07   \n",
       "\n",
       "   initial_credit_card_declined  join_fee  current_sub_TF  \\\n",
       "0                         False    0.0000            True   \n",
       "1                         False    0.3303            True   \n",
       "2                         False    0.1101           False   \n",
       "3                         False    0.0367           False   \n",
       "4                         False    0.0367            True   \n",
       "\n",
       "          last_payment cancel_date  trial_completed  \n",
       "0  2020-02-07 21:44:16           0             True  \n",
       "1  2020-03-15 15:44:35           0             True  \n",
       "2                    0           0             True  \n",
       "3                    0           0             True  \n",
       "4  2020-02-19 12:57:07           0             True  "
      ]
     },
     "execution_count": 2,
     "metadata": {},
     "output_type": "execute_result"
    }
   ],
   "source": [
    "#import data and read it as dataframe type\n",
    "df = pd.read_csv('Selected columns.csv')\n",
    "df.head()"
   ]
  },
  {
   "cell_type": "code",
   "execution_count": 5,
   "metadata": {},
   "outputs": [
    {
     "name": "stdout",
     "output_type": "stream",
     "text": [
      "<class 'pandas.core.frame.DataFrame'>\n",
      "RangeIndex: 227628 entries, 0 to 227627\n",
      "Data columns (total 13 columns):\n",
      " #   Column                        Non-Null Count   Dtype         \n",
      "---  ------                        --------------   -----         \n",
      " 0   preferred_genre               227628 non-null  object        \n",
      " 1   intended_use                  227628 non-null  object        \n",
      " 2   weekly_consumption_hour       227628 non-null  float64       \n",
      " 3   age                           227628 non-null  float64       \n",
      " 4   male_TF                       227628 non-null  object        \n",
      " 5   attribution_technical         227628 non-null  object        \n",
      " 6   account_creation_date         227628 non-null  datetime64[ns]\n",
      " 7   initial_credit_card_declined  227628 non-null  bool          \n",
      " 8   join_fee                      227628 non-null  float64       \n",
      " 9   current_sub_TF                227628 non-null  bool          \n",
      " 10  last_payment                  227628 non-null  object        \n",
      " 11  cancel_date                   227628 non-null  object        \n",
      " 12  trial_completed               227628 non-null  bool          \n",
      "dtypes: bool(3), datetime64[ns](1), float64(3), object(6)\n",
      "memory usage: 18.0+ MB\n"
     ]
    }
   ],
   "source": [
    "# change the data type of the account_creation_date \n",
    "df['account_creation_date'] = pd.to_datetime(df['account_creation_date'])\n",
    "df.info()"
   ]
  },
  {
   "cell_type": "code",
   "execution_count": 17,
   "metadata": {},
   "outputs": [],
   "source": [
    "# add new column to show the month of account creation\n",
    "df['19/07'] = df.account_creation_date.apply(lambda x: 1 if x>datetime(2019,7,1) and x<datetime(2019,8,1) else 0)\n",
    "df['19/08'] = df.account_creation_date.apply(lambda x: 1 if x>datetime(2019,8,1) and x<datetime(2019,9,1) else 0)\n",
    "df['19/09'] = df.account_creation_date.apply(lambda x: 1 if x>datetime(2019,9,1) and x<datetime(2019,10,1) else 0)\n",
    "df['19/10'] = df.account_creation_date.apply(lambda x: 1 if x>datetime(2019,10,1) and x<datetime(2019,11,1) else 0)\n",
    "df['19/11'] = df.account_creation_date.apply(lambda x: 1 if x>datetime(2019,11,1) and x<datetime(2019,12,1) else 0)\n",
    "df['19/12'] = df.account_creation_date.apply(lambda x: 1 if x>datetime(2019,12,1) and x<datetime(2020,1,1) else 0)\n",
    "df['20/01'] = df.account_creation_date.apply(lambda x: 1 if x>datetime(2020,1,1) and x<datetime(2020,2,1) else 0)\n",
    "df['20/02'] = df.account_creation_date.apply(lambda x: 1 if x>datetime(2020,2,1) and x<datetime(2020,3,1) else 0)"
   ]
  },
  {
   "cell_type": "code",
   "execution_count": 18,
   "metadata": {},
   "outputs": [
    {
     "name": "stdout",
     "output_type": "stream",
     "text": [
      "25708\n"
     ]
    }
   ],
   "source": [
    "print(sum(df['19/07']))"
   ]
  },
  {
   "cell_type": "code",
   "execution_count": 22,
   "metadata": {
    "scrolled": true
   },
   "outputs": [
    {
     "name": "stdout",
     "output_type": "stream",
     "text": [
      "120\n",
      "44\n",
      "10011\n",
      "1328\n",
      "8\n",
      "71\n",
      "74\n",
      "9855\n",
      "1939\n",
      "15\n",
      "84\n",
      "12\n",
      "6129\n",
      "1852\n",
      "2\n",
      "86\n",
      "50\n",
      "9489\n",
      "2333\n",
      "11\n",
      "103\n",
      "90\n",
      "12994\n",
      "2510\n",
      "47\n",
      "28\n",
      "112\n",
      "9288\n",
      "3770\n",
      "76\n",
      "172\n",
      "536\n",
      "6289\n",
      "4073\n",
      "370\n",
      "303\n",
      "341\n",
      "7988\n",
      "4300\n",
      "205\n"
     ]
    }
   ],
   "source": [
    "paid_channels=['bing','display','facebook','search','youtube']\n",
    "month=['19/07','19/08','19/09','19/10','19/11','19/12','20/01','20/02']\n",
    "\n",
    "# loop to print the sum of the acquire customers\n",
    "for i in month:\n",
    "    for j in paid_channels:\n",
    "        print(sum(df[i][df['attribution_technical'] == j]))"
   ]
  },
  {
   "cell_type": "code",
   "execution_count": null,
   "metadata": {},
   "outputs": [],
   "source": []
  }
 ],
 "metadata": {
  "kernelspec": {
   "display_name": "Python 3",
   "language": "python",
   "name": "python3"
  },
  "language_info": {
   "codemirror_mode": {
    "name": "ipython",
    "version": 3
   },
   "file_extension": ".py",
   "mimetype": "text/x-python",
   "name": "python",
   "nbconvert_exporter": "python",
   "pygments_lexer": "ipython3",
   "version": "3.8.3"
  }
 },
 "nbformat": 4,
 "nbformat_minor": 4
}
